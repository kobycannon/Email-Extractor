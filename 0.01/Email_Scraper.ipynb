{
  "nbformat": 4,
  "nbformat_minor": 0,
  "metadata": {
    "colab": {
      "provenance": [],
      "collapsed_sections": []
    },
    "kernelspec": {
      "name": "python3",
      "display_name": "Python 3"
    },
    "language_info": {
      "name": "python"
    }
  },
  "cells": [
    {
      "cell_type": "markdown",
      "source": [
        "## **Basic Email scraper**"
      ],
      "metadata": {
        "id": "GOmJAt7Te68w"
      }
    },
    {
      "cell_type": "markdown",
      "source": [
        "Import required modules"
      ],
      "metadata": {
        "id": "uhxVYSpUfE0X"
      }
    },
    {
      "cell_type": "code",
      "source": [
        "import re\n",
        "from urllib.request import urlopen"
      ],
      "metadata": {
        "id": "qb80nlHIXXku"
      },
      "execution_count": 1,
      "outputs": []
    },
    {
      "cell_type": "markdown",
      "source": [
        "Setting the url you want to scrape for emails"
      ],
      "metadata": {
        "id": "GdM0FQA0fH0r"
      }
    },
    {
      "cell_type": "code",
      "source": [
        "def pickurl():\n",
        "    global url\n",
        "    url = input(\"Enter a url you want to scrape for emails: \")\n",
        "pickurl()\n",
        "\n",
        "#Connect to url\n",
        "page = urlopen(url)\n",
        "page"
      ],
      "metadata": {
        "id": "2qMzmcsiXb6o"
      },
      "execution_count": null,
      "outputs": []
    },
    {
      "cell_type": "markdown",
      "source": [
        "Decoding the raw html of the given url (Supports (utf-8 & cp1252))"
      ],
      "metadata": {
        "id": "9p-OX0cAfN5-"
      }
    },
    {
      "cell_type": "code",
      "source": [
        "html_bytes = page.read()\n",
        "try:\n",
        "  html = html_bytes.decode(\"utf-8\")\n",
        "except UnicodeDecodeError:\n",
        "  html = html_bytes.decode(\"cp1252\")\n",
        "if html == \"\":\n",
        "  print(\"Decoding failed.\")\n",
        "  exit()\n",
        "print(html)"
      ],
      "metadata": {
        "id": "w_g9vvYgXi3n"
      },
      "execution_count": null,
      "outputs": []
    },
    {
      "cell_type": "markdown",
      "source": [
        "Using the re module to find emails inside the raw html"
      ],
      "metadata": {
        "id": "L9fWPgssfaFg"
      }
    },
    {
      "cell_type": "code",
      "source": [
        "line = html\n",
        "match = re.findall(r'\\b[A-Za-z0-9._%+-]+@[A-Za-z0-9.-]+\\.[A-Z|a-z]{2,}\\b', line)\n",
        "for i in match:\n",
        "    print(i)"
      ],
      "metadata": {
        "id": "IWTj5AKoXlsY"
      },
      "execution_count": 5,
      "outputs": []
    },
    {
      "cell_type": "markdown",
      "source": [
        "(Optional) Save all emails to a .csv file"
      ],
      "metadata": {
        "id": "Iu-BtF6Ufnjn"
      }
    },
    {
      "cell_type": "code",
      "source": [
        "#Save emails to a file (Optional)\n",
        "if i != \"\":\n",
        "    global save_file\n",
        "    save_file = input(\"Do you want to save emails to a file, y/n.\")\n",
        "    if save_file.lower() == \"y\":\n",
        "        global save_as\n",
        "        save_as = input(\"Pick file name: \")\n",
        "        with open(\"{}.csv\".format(save_as), \"w\") as f:\n",
        "            for i in match:\n",
        "                f.write(i + \"\\n\")"
      ],
      "metadata": {
        "id": "5poYyqcoXpP6"
      },
      "execution_count": null,
      "outputs": []
    }
  ]
}